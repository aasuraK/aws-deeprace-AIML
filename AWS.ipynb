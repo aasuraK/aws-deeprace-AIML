{
  "nbformat": 4,
  "nbformat_minor": 0,
  "metadata": {
    "colab": {
      "provenance": []
    },
    "kernelspec": {
      "name": "python3",
      "display_name": "Python 3"
    },
    "language_info": {
      "name": "python"
    }
  },
  "cells": [
    {
      "cell_type": "code",
      "execution_count": null,
      "metadata": {
        "id": "xqLKXFcsvVMx"
      },
      "outputs": [],
      "source": [
        "def reward_function(params):\n",
        "    # Read input parameters\n",
        "    distance_from_center = params['distance_from_center']\n",
        "    track_width = params['track_width']\n",
        "    all_wheels_on_track = params['all_wheels_on_track']\n",
        "    speed = params['speed']\n",
        "    steering_angle = abs(params['steering_angle'])\n",
        "    progress = params['progress']\n",
        "    steps = params['steps']\n",
        "    SPEED_THRESHOLD = 5\n",
        "    # Define some constants for readability\n",
        "    MARKER_1 = 0.1 * track_width\n",
        "    MARKER_2 = 0.25 * track_width\n",
        "    MARKER_3 = 0.5 * track_width\n",
        "    ABS_STEERING_THRESHOLD = 15\n",
        "    MIN_SPEED = 7\n",
        "    MAX_SPEED = 12\n",
        "    # Initialize the reward with a low value\n",
        "    reward = 1e-3\n",
        "    \n",
        "    # Give higher reward if the car stays inside the track borders\n",
        "    if all_wheels_on_track and (0.5*track_width - distance_from_center) >= 0.05:\n",
        "        reward = 1.0\n",
        "        \n",
        "    # Penalize the reward if the car goes off the track\n",
        "    if not all_wheels_on_track:\n",
        "        reward *= 0.5\n",
        "        \n",
        "    # Give a bonus reward for being closer to the center line\n",
        "    if distance_from_center <= MARKER_1:\n",
        "        reward *= 2\n",
        "    elif distance_from_center <= MARKER_2:\n",
        "        reward *= 1.5\n",
        "    elif distance_from_center <= MARKER_3:\n",
        "        reward *= 1.2\n",
        "        \n",
        "    # Penalize the reward for excessive steering\n",
        "    if steering_angle > ABS_STEERING_THRESHOLD:\n",
        "        reward *= 0.5\n",
        "        \n",
        "    # Give a bonus reward for maintaining a high speed\n",
        "    if speed > MIN_SPEED and speed < MAX_SPEED:\n",
        "        reward *= 1.5\n",
        "        \n",
        "    # Give a bonus reward for making progress on the track\n",
        "    reward += progress * 0.1\n",
        "    \n",
        "    # Penalty for low speed\n",
        "    if speed < SPEED_THRESHOLD:\n",
        "        reward *= 0.7\n",
        "        \n",
        "    # Penalize the reward for taking too many steps\n",
        "    if steps > 1000:\n",
        "        reward *= 0.5\n",
        "        \n",
        "    # Give a bonus reward for completing the track quickly\n",
        "    if progress == 1:\n",
        "        reward *= 2\n",
        "        \n",
        "    # Penalize the reward for excessive speeding\n",
        "    if speed > MAX_SPEED:\n",
        "        reward *= 0.5\n",
        "        \n",
        "    # Give a bonus reward for smooth driving\n",
        "    if speed < MIN_SPEED:\n",
        "        reward *= 0.7\n",
        "        \n",
        "    return float(reward)"
      ]
    }
  ]
}